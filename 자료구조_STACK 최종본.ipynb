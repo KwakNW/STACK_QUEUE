{
 "cells": [
  {
   "cell_type": "code",
   "execution_count": 1,
   "metadata": {},
   "outputs": [
    {
     "name": "stdout",
     "output_type": "stream",
     "text": [
      "수식을 입력하시오 : (2+345*4-5/6)\n",
      "후위표기법은:  2 345 4 * + 5 6 / -\n",
      "1381.1666666666667\n"
     ]
    }
   ],
   "source": [
    "stack = []\n",
    "PIS_operator = {\"(\" : 0, \"+\" : 1, \"-\" : 1, \"*\" : 2, \"/\" : 2, \"^\" : 3} # 스택에서의 우선 순위\n",
    "PIE_operator = {\"(\" : 4, \"+\" : 1, \"-\" : 1, \"*\" : 2, \"/\" : 2, \"^\" : 3} # 수식에서의 우선 순위\n",
    "operator = [\"+\", \"-\", \"*\", \"/\",\"(\",\")\",\"^\"]\n",
    "expression = list(input('수식을 입력하시오 : '))\n",
    "exp = []\n",
    "postfix = [] #후위계산법을 담을 리스트\n",
    "\n",
    "Top = len(stack) - 1 #스택의 Top 설정\n",
    "\n",
    "def is_empty(stack): # underflow 확인을 위한 함수\n",
    "    if len(stack) == 0:\n",
    "        ans = True\n",
    "    else:\n",
    "        ans = False\n",
    "    return ans\n",
    "\n",
    "for e in range(0, len(expression) - 1): #중위표기식 리스트에서 두자리 이상의 수가 있을 경우 합치기 위함\n",
    "    if expression[e] not in operator:\n",
    "        if expression[e + 1] not in operator:\n",
    "            expression[e + 1] = expression[e] + expression[e + 1]\n",
    "        else:\n",
    "            exp.append(expression[e])\n",
    "    else:\n",
    "        exp.append(expression[e])\n",
    "exp.append(expression[-1])\n",
    "\n",
    "for i in exp: #중위표기식을 후위표기식으로 만드는 반복문\n",
    "    if is_empty(stack):\n",
    "        if i in PIE_operator:\n",
    "            stack.append(i)\n",
    "        else:\n",
    "            if i != \")\":\n",
    "                postfix.append(i)\n",
    "    else:\n",
    "        if i in PIE_operator:\n",
    "            if PIE_operator[i] > PIS_operator[stack[Top]]:\n",
    "                stack.append(i)\n",
    "            else:\n",
    "                for s in range(len(stack)):\n",
    "                    if PIS_operator[stack[Top]] < PIE_operator[i]:\n",
    "                        stack.append(i)\n",
    "                    else:\n",
    "                        postfix.append(stack.pop())\n",
    "                if not is_empty(stack):\n",
    "                    if i is not stack[Top]:\n",
    "                        stack.append(i)\n",
    "                else:\n",
    "                    stack.append(i)\n",
    "\n",
    "        else:\n",
    "            if i == \")\":\n",
    "                for k in range(len(stack)):\n",
    "                    if stack[Top] == \"(\":\n",
    "                        stack.pop()\n",
    "                    else:\n",
    "                        postfix.append(stack.pop())\n",
    "            else:\n",
    "                postfix.append(i)\n",
    "\n",
    "\n",
    "for k in range(len(stack)): #스택에 남은 연산자를 pop시키는 과정\n",
    "    postfix.append(stack.pop())\n",
    "\n",
    "print(\"후위표기법은: \",' '.join(postfix))\n",
    "\n",
    "for post in postfix: #후위표가법을 통한 계산\n",
    "    if post not in operator:\n",
    "        stack.append(post)\n",
    "    else:\n",
    "        if post == '^':\n",
    "            post = '**'\n",
    "        T2 = stack.pop()\n",
    "        T1 = stack.pop()\n",
    "        T3 = str(eval(T1 + post + T2))\n",
    "        stack.append(T3)\n",
    "print(stack.pop())"
   ]
  },
  {
   "cell_type": "code",
   "execution_count": null,
   "metadata": {
    "collapsed": true
   },
   "outputs": [],
   "source": []
  },
  {
   "cell_type": "code",
   "execution_count": null,
   "metadata": {
    "collapsed": true
   },
   "outputs": [],
   "source": [
    "2+345*4-5/6\n",
    "((2+(345*4))-(5/6))\n",
    "(2+345*4-5/6)"
   ]
  }
 ],
 "metadata": {
  "kernelspec": {
   "display_name": "Python 3",
   "language": "python",
   "name": "python3"
  },
  "language_info": {
   "codemirror_mode": {
    "name": "ipython",
    "version": 3
   },
   "file_extension": ".py",
   "mimetype": "text/x-python",
   "name": "python",
   "nbconvert_exporter": "python",
   "pygments_lexer": "ipython3",
   "version": "3.6.5"
  }
 },
 "nbformat": 4,
 "nbformat_minor": 2
}
